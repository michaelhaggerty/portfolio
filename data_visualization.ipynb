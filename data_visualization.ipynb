{
 "cells": [
  {
   "cell_type": "markdown",
   "metadata": {},
   "source": [
    "# Data Storage"
   ]
  },
  {
   "cell_type": "markdown",
   "metadata": {},
   "source": [
    "## Pandas dataframe"
   ]
  },
  {
   "cell_type": "code",
   "execution_count": 6,
   "metadata": {},
   "outputs": [
    {
     "name": "stdout",
     "output_type": "stream",
     "text": [
      "Attempting to read data from 'data.csv'\n"
     ]
    }
   ],
   "source": [
    "file_path = 'data.csv'\n",
    "\n",
    "print(f\"Attempting to read data from '{file_path}'\")"
   ]
  },
  {
   "cell_type": "code",
   "execution_count": null,
   "metadata": {},
   "outputs": [
    {
     "data": {
      "text/html": [
       "<div>\n",
       "<style scoped>\n",
       "    .dataframe tbody tr th:only-of-type {\n",
       "        vertical-align: middle;\n",
       "    }\n",
       "\n",
       "    .dataframe tbody tr th {\n",
       "        vertical-align: top;\n",
       "    }\n",
       "\n",
       "    .dataframe thead th {\n",
       "        text-align: right;\n",
       "    }\n",
       "</style>\n",
       "<table border=\"1\" class=\"dataframe\">\n",
       "  <thead>\n",
       "    <tr style=\"text-align: right;\">\n",
       "      <th></th>\n",
       "      <th>Month</th>\n",
       "      <th>Total Sales</th>\n",
       "    </tr>\n",
       "  </thead>\n",
       "  <tbody>\n",
       "    <tr>\n",
       "      <th>0</th>\n",
       "      <td>2021-01-01</td>\n",
       "      <td>$57,650</td>\n",
       "    </tr>\n",
       "    <tr>\n",
       "      <th>1</th>\n",
       "      <td>2021-02-01</td>\n",
       "      <td>$63,950</td>\n",
       "    </tr>\n",
       "    <tr>\n",
       "      <th>2</th>\n",
       "      <td>2021-03-04</td>\n",
       "      <td>$52,350</td>\n",
       "    </tr>\n",
       "    <tr>\n",
       "      <th>3</th>\n",
       "      <td>2021-04-04</td>\n",
       "      <td>$49,750</td>\n",
       "    </tr>\n",
       "    <tr>\n",
       "      <th>4</th>\n",
       "      <td>2021-05-05</td>\n",
       "      <td>$42,535</td>\n",
       "    </tr>\n",
       "    <tr>\n",
       "      <th>5</th>\n",
       "      <td>2021-06-05</td>\n",
       "      <td>$37,800</td>\n",
       "    </tr>\n",
       "    <tr>\n",
       "      <th>6</th>\n",
       "      <td>2021-07-06</td>\n",
       "      <td>$36,950</td>\n",
       "    </tr>\n",
       "    <tr>\n",
       "      <th>7</th>\n",
       "      <td>2021-08-06</td>\n",
       "      <td>$35,125</td>\n",
       "    </tr>\n",
       "    <tr>\n",
       "      <th>8</th>\n",
       "      <td>2021-09-06</td>\n",
       "      <td>$38,750</td>\n",
       "    </tr>\n",
       "    <tr>\n",
       "      <th>9</th>\n",
       "      <td>2021-10-07</td>\n",
       "      <td>$42,035</td>\n",
       "    </tr>\n",
       "    <tr>\n",
       "      <th>10</th>\n",
       "      <td>2021-11-07</td>\n",
       "      <td>$48,950</td>\n",
       "    </tr>\n",
       "    <tr>\n",
       "      <th>11</th>\n",
       "      <td>2021-12-08</td>\n",
       "      <td>$59,850</td>\n",
       "    </tr>\n",
       "    <tr>\n",
       "      <th>12</th>\n",
       "      <td>2022-01-08</td>\n",
       "      <td>$65,750</td>\n",
       "    </tr>\n",
       "    <tr>\n",
       "      <th>13</th>\n",
       "      <td>2022-02-08</td>\n",
       "      <td>$61,255</td>\n",
       "    </tr>\n",
       "    <tr>\n",
       "      <th>14</th>\n",
       "      <td>2022-03-11</td>\n",
       "      <td>$51,250</td>\n",
       "    </tr>\n",
       "    <tr>\n",
       "      <th>15</th>\n",
       "      <td>2022-04-11</td>\n",
       "      <td>$47,530</td>\n",
       "    </tr>\n",
       "    <tr>\n",
       "      <th>16</th>\n",
       "      <td>2022-05-12</td>\n",
       "      <td>$41,790</td>\n",
       "    </tr>\n",
       "    <tr>\n",
       "      <th>17</th>\n",
       "      <td>2022-06-12</td>\n",
       "      <td>$37,140</td>\n",
       "    </tr>\n",
       "    <tr>\n",
       "      <th>18</th>\n",
       "      <td>2022-07-13</td>\n",
       "      <td>$36,590</td>\n",
       "    </tr>\n",
       "    <tr>\n",
       "      <th>19</th>\n",
       "      <td>2022-08-13</td>\n",
       "      <td>$33,540</td>\n",
       "    </tr>\n",
       "    <tr>\n",
       "      <th>20</th>\n",
       "      <td>2022-09-13</td>\n",
       "      <td>$44,590</td>\n",
       "    </tr>\n",
       "    <tr>\n",
       "      <th>21</th>\n",
       "      <td>2022-10-14</td>\n",
       "      <td>$53,950</td>\n",
       "    </tr>\n",
       "    <tr>\n",
       "      <th>22</th>\n",
       "      <td>2022-11-14</td>\n",
       "      <td>$58,800</td>\n",
       "    </tr>\n",
       "    <tr>\n",
       "      <th>23</th>\n",
       "      <td>2022-12-15</td>\n",
       "      <td>$62,540</td>\n",
       "    </tr>\n",
       "    <tr>\n",
       "      <th>24</th>\n",
       "      <td>2023-01-15</td>\n",
       "      <td>$65,709</td>\n",
       "    </tr>\n",
       "    <tr>\n",
       "      <th>25</th>\n",
       "      <td>2023-02-15</td>\n",
       "      <td>$70,450</td>\n",
       "    </tr>\n",
       "    <tr>\n",
       "      <th>26</th>\n",
       "      <td>2023-03-18</td>\n",
       "      <td>$61,750</td>\n",
       "    </tr>\n",
       "    <tr>\n",
       "      <th>27</th>\n",
       "      <td>2023-04-18</td>\n",
       "      <td>$49,750</td>\n",
       "    </tr>\n",
       "    <tr>\n",
       "      <th>28</th>\n",
       "      <td>2023-05-19</td>\n",
       "      <td>$45,612</td>\n",
       "    </tr>\n",
       "    <tr>\n",
       "      <th>29</th>\n",
       "      <td>2023-06-19</td>\n",
       "      <td>$38,710</td>\n",
       "    </tr>\n",
       "    <tr>\n",
       "      <th>30</th>\n",
       "      <td>2023-07-20</td>\n",
       "      <td>$35,980</td>\n",
       "    </tr>\n",
       "    <tr>\n",
       "      <th>31</th>\n",
       "      <td>2023-08-20</td>\n",
       "      <td>$34,759</td>\n",
       "    </tr>\n",
       "    <tr>\n",
       "      <th>32</th>\n",
       "      <td>2023-09-20</td>\n",
       "      <td>$37,570</td>\n",
       "    </tr>\n",
       "    <tr>\n",
       "      <th>33</th>\n",
       "      <td>2023-10-21</td>\n",
       "      <td>$40,950</td>\n",
       "    </tr>\n",
       "    <tr>\n",
       "      <th>34</th>\n",
       "      <td>2023-11-21</td>\n",
       "      <td>$51,980</td>\n",
       "    </tr>\n",
       "    <tr>\n",
       "      <th>35</th>\n",
       "      <td>2023-12-22</td>\n",
       "      <td>$65,750</td>\n",
       "    </tr>\n",
       "  </tbody>\n",
       "</table>\n",
       "</div>"
      ],
      "text/plain": [
       "        Month Total Sales\n",
       "0  2021-01-01    $57,650 \n",
       "1  2021-02-01    $63,950 \n",
       "2  2021-03-04    $52,350 \n",
       "3  2021-04-04    $49,750 \n",
       "4  2021-05-05    $42,535 \n",
       "5  2021-06-05    $37,800 \n",
       "6  2021-07-06    $36,950 \n",
       "7  2021-08-06    $35,125 \n",
       "8  2021-09-06    $38,750 \n",
       "9  2021-10-07    $42,035 \n",
       "10 2021-11-07    $48,950 \n",
       "11 2021-12-08    $59,850 \n",
       "12 2022-01-08    $65,750 \n",
       "13 2022-02-08    $61,255 \n",
       "14 2022-03-11    $51,250 \n",
       "15 2022-04-11    $47,530 \n",
       "16 2022-05-12    $41,790 \n",
       "17 2022-06-12    $37,140 \n",
       "18 2022-07-13    $36,590 \n",
       "19 2022-08-13    $33,540 \n",
       "20 2022-09-13    $44,590 \n",
       "21 2022-10-14    $53,950 \n",
       "22 2022-11-14    $58,800 \n",
       "23 2022-12-15    $62,540 \n",
       "24 2023-01-15    $65,709 \n",
       "25 2023-02-15    $70,450 \n",
       "26 2023-03-18    $61,750 \n",
       "27 2023-04-18    $49,750 \n",
       "28 2023-05-19    $45,612 \n",
       "29 2023-06-19    $38,710 \n",
       "30 2023-07-20    $35,980 \n",
       "31 2023-08-20    $34,759 \n",
       "32 2023-09-20    $37,570 \n",
       "33 2023-10-21    $40,950 \n",
       "34 2023-11-21    $51,980 \n",
       "35 2023-12-22    $65,750 "
      ]
     },
     "execution_count": 8,
     "metadata": {},
     "output_type": "execute_result"
    }
   ],
   "source": [
    "df = pd.read_csv(file_path, parse_dates=['Month'])\n",
    "df"
   ]
  },
  {
   "cell_type": "markdown",
   "metadata": {},
   "source": [
    "## NumPy Arrays"
   ]
  },
  {
   "cell_type": "code",
   "execution_count": 9,
   "metadata": {},
   "outputs": [
    {
     "data": {
      "text/plain": [
       "array(['2021-01-01T00:00:00.000000000', '2021-02-01T00:00:00.000000000',\n",
       "       '2021-03-04T00:00:00.000000000', '2021-04-04T00:00:00.000000000',\n",
       "       '2021-05-05T00:00:00.000000000', '2021-06-05T00:00:00.000000000',\n",
       "       '2021-07-06T00:00:00.000000000', '2021-08-06T00:00:00.000000000',\n",
       "       '2021-09-06T00:00:00.000000000', '2021-10-07T00:00:00.000000000',\n",
       "       '2021-11-07T00:00:00.000000000', '2021-12-08T00:00:00.000000000',\n",
       "       '2022-01-08T00:00:00.000000000', '2022-02-08T00:00:00.000000000',\n",
       "       '2022-03-11T00:00:00.000000000', '2022-04-11T00:00:00.000000000',\n",
       "       '2022-05-12T00:00:00.000000000', '2022-06-12T00:00:00.000000000',\n",
       "       '2022-07-13T00:00:00.000000000', '2022-08-13T00:00:00.000000000',\n",
       "       '2022-09-13T00:00:00.000000000', '2022-10-14T00:00:00.000000000',\n",
       "       '2022-11-14T00:00:00.000000000', '2022-12-15T00:00:00.000000000',\n",
       "       '2023-01-15T00:00:00.000000000', '2023-02-15T00:00:00.000000000',\n",
       "       '2023-03-18T00:00:00.000000000', '2023-04-18T00:00:00.000000000',\n",
       "       '2023-05-19T00:00:00.000000000', '2023-06-19T00:00:00.000000000',\n",
       "       '2023-07-20T00:00:00.000000000', '2023-08-20T00:00:00.000000000',\n",
       "       '2023-09-20T00:00:00.000000000', '2023-10-21T00:00:00.000000000',\n",
       "       '2023-11-21T00:00:00.000000000', '2023-12-22T00:00:00.000000000'],\n",
       "      dtype='datetime64[ns]')"
      ]
     },
     "execution_count": 9,
     "metadata": {},
     "output_type": "execute_result"
    }
   ],
   "source": [
    "dates_np = df['Month'].values\n",
    "dates_np"
   ]
  },
  {
   "cell_type": "code",
   "execution_count": 10,
   "metadata": {},
   "outputs": [
    {
     "data": {
      "text/plain": [
       "array(['$57,650 ', '$63,950 ', '$52,350 ', '$49,750 ', '$42,535 ',\n",
       "       '$37,800 ', '$36,950 ', '$35,125 ', '$38,750 ', '$42,035 ',\n",
       "       '$48,950 ', '$59,850 ', '$65,750 ', '$61,255 ', '$51,250 ',\n",
       "       '$47,530 ', '$41,790 ', '$37,140 ', '$36,590 ', '$33,540 ',\n",
       "       '$44,590 ', '$53,950 ', '$58,800 ', '$62,540 ', '$65,709 ',\n",
       "       '$70,450 ', '$61,750 ', '$49,750 ', '$45,612 ', '$38,710 ',\n",
       "       '$35,980 ', '$34,759 ', '$37,570 ', '$40,950 ', '$51,980 ',\n",
       "       '$65,750 '], dtype=object)"
      ]
     },
     "execution_count": 10,
     "metadata": {},
     "output_type": "execute_result"
    }
   ],
   "source": [
    "sales_np = df['Total Sales'].values\n",
    "sales_np"
   ]
  },
  {
   "cell_type": "markdown",
   "metadata": {},
   "source": [
    "## Python Lists"
   ]
  },
  {
   "cell_type": "code",
   "execution_count": 13,
   "metadata": {},
   "outputs": [
    {
     "data": {
      "text/plain": [
       "[Timestamp('2021-01-01 00:00:00'),\n",
       " Timestamp('2021-02-01 00:00:00'),\n",
       " Timestamp('2021-03-04 00:00:00'),\n",
       " Timestamp('2021-04-04 00:00:00'),\n",
       " Timestamp('2021-05-05 00:00:00'),\n",
       " Timestamp('2021-06-05 00:00:00'),\n",
       " Timestamp('2021-07-06 00:00:00'),\n",
       " Timestamp('2021-08-06 00:00:00'),\n",
       " Timestamp('2021-09-06 00:00:00'),\n",
       " Timestamp('2021-10-07 00:00:00'),\n",
       " Timestamp('2021-11-07 00:00:00'),\n",
       " Timestamp('2021-12-08 00:00:00'),\n",
       " Timestamp('2022-01-08 00:00:00'),\n",
       " Timestamp('2022-02-08 00:00:00'),\n",
       " Timestamp('2022-03-11 00:00:00'),\n",
       " Timestamp('2022-04-11 00:00:00'),\n",
       " Timestamp('2022-05-12 00:00:00'),\n",
       " Timestamp('2022-06-12 00:00:00'),\n",
       " Timestamp('2022-07-13 00:00:00'),\n",
       " Timestamp('2022-08-13 00:00:00'),\n",
       " Timestamp('2022-09-13 00:00:00'),\n",
       " Timestamp('2022-10-14 00:00:00'),\n",
       " Timestamp('2022-11-14 00:00:00'),\n",
       " Timestamp('2022-12-15 00:00:00'),\n",
       " Timestamp('2023-01-15 00:00:00'),\n",
       " Timestamp('2023-02-15 00:00:00'),\n",
       " Timestamp('2023-03-18 00:00:00'),\n",
       " Timestamp('2023-04-18 00:00:00'),\n",
       " Timestamp('2023-05-19 00:00:00'),\n",
       " Timestamp('2023-06-19 00:00:00'),\n",
       " Timestamp('2023-07-20 00:00:00'),\n",
       " Timestamp('2023-08-20 00:00:00'),\n",
       " Timestamp('2023-09-20 00:00:00'),\n",
       " Timestamp('2023-10-21 00:00:00'),\n",
       " Timestamp('2023-11-21 00:00:00'),\n",
       " Timestamp('2023-12-22 00:00:00')]"
      ]
     },
     "execution_count": 13,
     "metadata": {},
     "output_type": "execute_result"
    }
   ],
   "source": [
    "dates_list = df['Month'].tolist()\n",
    "dates_list"
   ]
  },
  {
   "cell_type": "code",
   "execution_count": 12,
   "metadata": {},
   "outputs": [
    {
     "data": {
      "text/plain": [
       "['$57,650 ',\n",
       " '$63,950 ',\n",
       " '$52,350 ',\n",
       " '$49,750 ',\n",
       " '$42,535 ',\n",
       " '$37,800 ',\n",
       " '$36,950 ',\n",
       " '$35,125 ',\n",
       " '$38,750 ',\n",
       " '$42,035 ',\n",
       " '$48,950 ',\n",
       " '$59,850 ',\n",
       " '$65,750 ',\n",
       " '$61,255 ',\n",
       " '$51,250 ',\n",
       " '$47,530 ',\n",
       " '$41,790 ',\n",
       " '$37,140 ',\n",
       " '$36,590 ',\n",
       " '$33,540 ',\n",
       " '$44,590 ',\n",
       " '$53,950 ',\n",
       " '$58,800 ',\n",
       " '$62,540 ',\n",
       " '$65,709 ',\n",
       " '$70,450 ',\n",
       " '$61,750 ',\n",
       " '$49,750 ',\n",
       " '$45,612 ',\n",
       " '$38,710 ',\n",
       " '$35,980 ',\n",
       " '$34,759 ',\n",
       " '$37,570 ',\n",
       " '$40,950 ',\n",
       " '$51,980 ',\n",
       " '$65,750 ']"
      ]
     },
     "execution_count": 12,
     "metadata": {},
     "output_type": "execute_result"
    }
   ],
   "source": [
    "sales_list = df['Total Sales'].tolist()\n",
    "sales_list"
   ]
  },
  {
   "cell_type": "markdown",
   "metadata": {},
   "source": [
    "# Data Visualization"
   ]
  },
  {
   "cell_type": "code",
   "execution_count": 14,
   "metadata": {},
   "outputs": [
    {
     "name": "stdout",
     "output_type": "stream",
     "text": [
      "--- Script execution context date: 2025-04-02 13:26:58 CDT ---\n"
     ]
    }
   ],
   "source": [
    "# Imports\n",
    "import pandas as pd\n",
    "import numpy as np\n",
    "import matplotlib.pyplot as plt\n",
    "import seaborn as sns\n",
    "import plotly.express as px\n",
    "import sys # For exiting script on error\n",
    "from datetime import datetime # For adding current date comment\n",
    "\n",
    "# --- Get Current Time (based on user context) ---\n",
    "# Current time is Wednesday, April 2, 2025 at 1:26:58 PM CDT.\n",
    "# Location: Houston, Texas, United States.\n",
    "current_time_str = \"2025-04-02 13:26:58 CDT\"\n",
    "print(f\"--- Script execution context date: {current_time_str} ---\")"
   ]
  },
  {
   "cell_type": "code",
   "execution_count": 1,
   "metadata": {},
   "outputs": [
    {
     "name": "stdout",
     "output_type": "stream",
     "text": [
      "--- Notebook execution context date: 2025-04-02 13:38:30 CDT ---\n",
      "\n",
      "Attempting to read data from 'data.csv'...\n",
      "Successfully read and sorted data from 'data.csv'.\n",
      "\n",
      "DataFrame Info (Check dtypes):\n",
      "<class 'pandas.core.frame.DataFrame'>\n",
      "RangeIndex: 36 entries, 0 to 35\n",
      "Data columns (total 2 columns):\n",
      " #   Column       Non-Null Count  Dtype         \n",
      "---  ------       --------------  -----         \n",
      " 0   Month        36 non-null     datetime64[ns]\n",
      " 1   Total Sales  36 non-null     object        \n",
      "dtypes: datetime64[ns](1), object(1)\n",
      "memory usage: 704.0+ bytes\n",
      "\n",
      "'Total Sales' column is not numeric. Attempting cleaning...\n",
      "Cleaned 'Total Sales' column and converted to numeric.\n",
      "\n",
      "Updated DataFrame Info:\n",
      "<class 'pandas.core.frame.DataFrame'>\n",
      "RangeIndex: 36 entries, 0 to 35\n",
      "Data columns (total 2 columns):\n",
      " #   Column       Non-Null Count  Dtype         \n",
      "---  ------       --------------  -----         \n",
      " 0   Month        36 non-null     datetime64[ns]\n",
      " 1   Total Sales  36 non-null     int64         \n",
      "dtypes: datetime64[ns](1), int64(1)\n",
      "memory usage: 704.0 bytes\n",
      "\n",
      "DataFrame ready for plotting:\n",
      "       Month  Total Sales\n",
      "0 2021-01-01        57650\n",
      "1 2021-02-01        63950\n",
      "2 2021-03-04        52350\n",
      "3 2021-04-04        49750\n",
      "4 2021-05-05        42535\n"
     ]
    }
   ],
   "source": [
    "# === CELL 1: Setup ===\n",
    "\n",
    "# Core libraries\n",
    "import pandas as pd\n",
    "import numpy as np\n",
    "\n",
    "# Visualization libraries\n",
    "import matplotlib.pyplot as plt\n",
    "import seaborn as sns\n",
    "import plotly.express as px\n",
    "\n",
    "# System and time libraries\n",
    "import sys\n",
    "from datetime import datetime\n",
    "\n",
    "# --- Tell Jupyter to display Matplotlib plots inline ---\n",
    "%matplotlib inline\n",
    "\n",
    "# --- Context Time ---\n",
    "# Current time is Wednesday, April 2, 2025 at 1:38:30 PM CDT.\n",
    "# Location: Houston, Texas, United States.\n",
    "current_time_str = \"2025-04-02 13:38:30 CDT\"\n",
    "print(f\"--- Notebook execution context date: {current_time_str} ---\")\n",
    "\n",
    "# --- Step 1: Prepare the DataFrame from data.csv ---\n",
    "file_path = \"data.csv\"\n",
    "print(f\"\\nAttempting to read data from '{file_path}'...\")\n",
    "\n",
    "try:\n",
    "    df = pd.read_csv(file_path, parse_dates=['Month'])\n",
    "    df = df.sort_values(by='Month').reset_index(drop=True)\n",
    "    print(f\"Successfully read and sorted data from '{file_path}'.\")\n",
    "\n",
    "    # --- DIAGNOSE DATATYPES ---\n",
    "    print(\"\\nDataFrame Info (Check dtypes):\")\n",
    "    df.info()\n",
    "    # --- END DIAGNOSE ---\n",
    "\n",
    "    # --- CLEAN 'Total Sales' COLUMN (if necessary) ---\n",
    "    # Check if the column dtype is 'object' (likely string)\n",
    "    if df['Total Sales'].dtype == 'object':\n",
    "        print(\"\\n'Total Sales' column is not numeric. Attempting cleaning...\")\n",
    "        try:\n",
    "            # Remove characters like '$' and ',' using regex\n",
    "            # Convert the column to string first to ensure .str accessor works\n",
    "            df['Total Sales'] = df['Total Sales'].astype(str).str.replace(r'[$,]', '', regex=True)\n",
    "\n",
    "            # Convert the cleaned column to a numeric type (float allows decimals)\n",
    "            df['Total Sales'] = pd.to_numeric(df['Total Sales'])\n",
    "\n",
    "            print(\"Cleaned 'Total Sales' column and converted to numeric.\")\n",
    "            print(\"\\nUpdated DataFrame Info:\")\n",
    "            df.info() # Display info again to confirm conversion\n",
    "        except Exception as clean_error:\n",
    "            print(f\"Error during cleaning 'Total Sales': {clean_error}\")\n",
    "            raise # Stop if cleaning fails\n",
    "    else:\n",
    "         print(\"\\n'Total Sales' column is already numeric.\")\n",
    "    # --- END CLEANING ---\n",
    "\n",
    "    print(\"\\nDataFrame ready for plotting:\")\n",
    "    print(df.head())\n",
    "\n",
    "except FileNotFoundError:\n",
    "    print(f\"Error: The file '{file_path}' was not found.\")\n",
    "    print(\"Please ensure 'data.csv' exists in the same directory as this notebook.\")\n",
    "    raise\n",
    "except KeyError as e:\n",
    "    print(f\"Error: Column not found - likely '{e}'. Check CSV headers ('Month', 'Total Sales').\")\n",
    "    raise\n",
    "except Exception as e:\n",
    "    print(f\"An error occurred during data loading or preparation: {e}\")\n",
    "    raise\n",
    "\n",
    "# Define global plot settings\n",
    "FIGSIZE = (10, 5)"
   ]
  },
  {
   "cell_type": "code",
   "execution_count": 2,
   "metadata": {},
   "outputs": [
    {
     "name": "stdout",
     "output_type": "stream",
     "text": [
      "\n",
      "--- Generating Plot 1: Pandas Built-in ---\n"
     ]
    },
    {
     "data": {
      "text/plain": [
       "<Figure size 1000x500 with 0 Axes>"
      ]
     },
     "metadata": {},
     "output_type": "display_data"
    },
    {
     "data": {
      "image/png": "[encoded data removed]",
      "text/plain": [
       "<Figure size 1000x500 with 1 Axes>"
      ]
     },
     "metadata": {},
     "output_type": "display_data"
    }
   ],
   "source": [
    "print(\"\\n--- Generating Plot 1: Pandas Built-in ---\")\n",
    "\n",
    "# Create a figure instance for this plot\n",
    "plt.figure(figsize=FIGSIZE)\n",
    "\n",
    "# Generate the plot using the DataFrame's plot method\n",
    "# figsize here is slightly redundant as plt.figure already set it, but doesn't hurt\n",
    "ax_pandas = df.plot(kind='line', x='Month', y='Total Sales', legend=False,\n",
    "                  title='Total Sales Over Time (Pandas Built-in)', rot=30, figsize=FIGSIZE)\n",
    "\n",
    "# Customize axes and grid using the returned Matplotlib axes object\n",
    "ax_pandas.set_xlabel(\"Month\")\n",
    "ax_pandas.set_ylabel(\"Total Sales ($)\")\n",
    "ax_pandas.grid(True, axis='y', linestyle=':')\n",
    "\n",
    "# Adjust layout (optional but good practice)\n",
    "plt.tight_layout()\n",
    "\n",
    "# No plt.show() needed - plot will display automatically in the cell output\n",
    "# because %matplotlib inline was set in the previous cell."
   ]
  },
  {
   "cell_type": "code",
   "execution_count": 3,
   "metadata": {},
   "outputs": [
    {
     "name": "stdout",
     "output_type": "stream",
     "text": [
      "\n",
      "--- Generating Plot 2: Matplotlib ---\n"
     ]
    },
    {
     "data": {
      "image/png": "[encoded data removed]",
      "text/plain": [
       "<Figure size 1000x500 with 1 Axes>"
      ]
     },
     "metadata": {},
     "output_type": "display_data"
    }
   ],
   "source": [
    "# === CELL 3: Matplotlib Plot ===\n",
    "\n",
    "print(\"\\n--- Generating Plot 2: Matplotlib ---\")\n",
    "\n",
    "# Create a figure instance for this plot\n",
    "# Assumes FIGSIZE was defined in Cell 1\n",
    "plt.figure(figsize=FIGSIZE)\n",
    "\n",
    "# Generate the plot using Matplotlib's pyplot interface\n",
    "# Assumes df['Month'] and df['Total Sales'] exist from Cell 1\n",
    "plt.plot(df['Month'], df['Total Sales'], marker='.', linestyle='-')\n",
    "\n",
    "# Customize title, labels, ticks, and grid\n",
    "plt.title('Total Sales Over Time (Matplotlib)')\n",
    "plt.xlabel('Month')\n",
    "plt.ylabel('Total Sales ($)')\n",
    "plt.xticks(rotation=30, ha='right')\n",
    "plt.grid(True, axis='y', linestyle=':')\n",
    "\n",
    "# Adjust layout\n",
    "plt.tight_layout()\n",
    "\n",
    "# No plt.show() needed - plot displays automatically due to %matplotlib inline"
   ]
  },
  {
   "cell_type": "code",
   "execution_count": 4,
   "metadata": {},
   "outputs": [
    {
     "name": "stdout",
     "output_type": "stream",
     "text": [
      "\n",
      "--- Generating Plot 3: Seaborn ---\n"
     ]
    },
    {
     "data": {
      "image/png": "[encoded data removed]",
      "text/plain": [
       "<Figure size 1000x500 with 1 Axes>"
      ]
     },
     "metadata": {},
     "output_type": "display_data"
    }
   ],
   "source": [
    "# === CELL 4: Seaborn Plot ===\n",
    "\n",
    "print(\"\\n--- Generating Plot 3: Seaborn ---\")\n",
    "\n",
    "# Create a figure instance for this plot\n",
    "# Assumes FIGSIZE was defined in Cell 1\n",
    "plt.figure(figsize=FIGSIZE)\n",
    "\n",
    "# Generate the plot using Seaborn's lineplot\n",
    "# Assumes df exists and has 'Month' and 'Total Sales' columns from Cell 1\n",
    "ax_seaborn = sns.lineplot(data=df, x='Month', y='Total Sales', marker='o')\n",
    "\n",
    "# Customize using the returned axes object\n",
    "ax_seaborn.set_title('Total Sales Over Time (Seaborn)')\n",
    "ax_seaborn.set_xlabel('Month')\n",
    "ax_seaborn.set_ylabel('Total Sales ($)')\n",
    "plt.xticks(rotation=30, ha='right')\n",
    "ax_seaborn.grid(True, axis='y', linestyle=':')\n",
    "\n",
    "# Adjust layout\n",
    "plt.tight_layout()\n",
    "\n",
    "# No plt.show() needed - plot displays automatically"
   ]
  },
  {
   "cell_type": "code",
   "execution_count": 13,
   "metadata": {},
   "outputs": [
    {
     "name": "stdout",
     "output_type": "stream",
     "text": [
      "\n",
      "--- Generating Plot 4: Plotly Express ---\n"
     ]
    },
    {
     "data": {
      "application/vnd.plotly.v1+json": {
       "config": {
        "plotlyServerURL": "https://plot.ly"
       },
       "data": [
        {
         "hovertemplate": "Month=%{x}<br>Total Sales=%{y}<extra></extra>",
         "legendgroup": "",
         "line": {
          "color": "#636efa",
          "dash": "solid"
         },
         "marker": {
          "symbol": "circle"
         },
         "mode": "lines+markers",
         "name": "",
         "orientation": "v",
         "showlegend": false,
         "type": "scatter",
         "x": [
          "2021-01-01T00:00:00.000000000",
          "2021-02-01T00:00:00.000000000",
          "2021-03-04T00:00:00.000000000",
          "2021-04-04T00:00:00.000000000",
          "2021-05-05T00:00:00.000000000",
          "2021-06-05T00:00:00.000000000",
          "2021-07-06T00:00:00.000000000",
          "2021-08-06T00:00:00.000000000",
          "2021-09-06T00:00:00.000000000",
          "2021-10-07T00:00:00.000000000",
          "2021-11-07T00:00:00.000000000",
          "2021-12-08T00:00:00.000000000",
          "2022-01-08T00:00:00.000000000",
          "2022-02-08T00:00:00.000000000",
          "2022-03-11T00:00:00.000000000",
          "2022-04-11T00:00:00.000000000",
          "2022-05-12T00:00:00.000000000",
          "2022-06-12T00:00:00.000000000",
          "2022-07-13T00:00:00.000000000",
          "2022-08-13T00:00:00.000000000",
          "2022-09-13T00:00:00.000000000",
          "2022-10-14T00:00:00.000000000",
          "2022-11-14T00:00:00.000000000",
          "2022-12-15T00:00:00.000000000",
          "2023-01-15T00:00:00.000000000",
          "2023-02-15T00:00:00.000000000",
          "2023-03-18T00:00:00.000000000",
          "2023-04-18T00:00:00.000000000",
          "2023-05-19T00:00:00.000000000",
          "2023-06-19T00:00:00.000000000",
          "2023-07-20T00:00:00.000000000",
          "2023-08-20T00:00:00.000000000",
          "2023-09-20T00:00:00.000000000",
          "2023-10-21T00:00:00.000000000",
          "2023-11-21T00:00:00.000000000",
          "2023-12-22T00:00:00.000000000"
         ],
         "xaxis": "x",
         "y": {
          "bdata": "MuEAAM75AAB+zAAAVsIAACemAACokwAAVpAAADWJAABelwAAM6QAADa/AADK6QAA1gABAEfvAAAyyAAAqrkAAD6jAAAUkQAA7o4AAASDAAAurgAAvtIAALDlAABM9AAArQABADITAQA28QAAVsIAACyyAAA2lwAAjIwAAMeHAADCkgAA9p8AAAzLAADWAAEA",
          "dtype": "i4"
         },
         "yaxis": "y"
        }
       ],
       "layout": {
        "height": 500,
        "legend": {
         "tracegroupgap": 0
        },
        "template": {
         "data": {
          "bar": [
           {
            "error_x": {
             "color": "#2a3f5f"
            },
            "error_y": {
             "color": "#2a3f5f"
            },
            "marker": {
             "line": {
              "color": "#E5ECF6",
              "width": 0.5
             },
             "pattern": {
              "fillmode": "overlay",
              "size": 10,
              "solidity": 0.2
             }
            },
            "type": "bar"
           }
          ],
          "barpolar": [
           {
            "marker": {
             "line": {
              "color": "#E5ECF6",
              "width": 0.5
             },
             "pattern": {
              "fillmode": "overlay",
              "size": 10,
              "solidity": 0.2
             }
            },
            "type": "barpolar"
           }
          ],
          "carpet": [
           {
            "aaxis": {
             "endlinecolor": "#2a3f5f",
             "gridcolor": "white",
             "linecolor": "white",
             "minorgridcolor": "white",
             "startlinecolor": "#2a3f5f"
            },
            "baxis": {
             "endlinecolor": "#2a3f5f",
             "gridcolor": "white",
             "linecolor": "white",
             "minorgridcolor": "white",
             "startlinecolor": "#2a3f5f"
            },
            "type": "carpet"
           }
          ],
          "choropleth": [
           {
            "colorbar": {
             "outlinewidth": 0,
             "ticks": ""
            },
            "type": "choropleth"
           }
          ],
          "contour": [
           {
            "colorbar": {
             "outlinewidth": 0,
             "ticks": ""
            },
            "colorscale": [
             [
              0,
              "#0d0887"
             ],
             [
              0.1111111111111111,
              "#46039f"
             ],
             [
              0.2222222222222222,
              "#7201a8"
             ],
             [
              0.3333333333333333,
              "#9c179e"
             ],
             [
              0.4444444444444444,
              "#bd3786"
             ],
             [
              0.5555555555555556,
              "#d8576b"
             ],
             [
              0.6666666666666666,
              "#ed7953"
             ],
             [
              0.7777777777777778,
              "#fb9f3a"
             ],
             [
              0.8888888888888888,
              "#fdca26"
             ],
             [
              1,
              "#f0f921"
             ]
            ],
            "type": "contour"
           }
          ],
          "contourcarpet": [
           {
            "colorbar": {
             "outlinewidth": 0,
             "ticks": ""
            },
            "type": "contourcarpet"
           }
          ],
          "heatmap": [
           {
            "colorbar": {
             "outlinewidth": 0,
             "ticks": ""
            },
            "colorscale": [
             [
              0,
              "#0d0887"
             ],
             [
              0.1111111111111111,
              "#46039f"
             ],
             [
              0.2222222222222222,
              "#7201a8"
             ],
             [
              0.3333333333333333,
              "#9c179e"
             ],
             [
              0.4444444444444444,
              "#bd3786"
             ],
             [
              0.5555555555555556,
              "#d8576b"
             ],
             [
              0.6666666666666666,
              "#ed7953"
             ],
             [
              0.7777777777777778,
              "#fb9f3a"
             ],
             [
              0.8888888888888888,
              "#fdca26"
             ],
             [
              1,
              "#f0f921"
             ]
            ],
            "type": "heatmap"
           }
          ],
          "histogram": [
           {
            "marker": {
             "pattern": {
              "fillmode": "overlay",
              "size": 10,
              "solidity": 0.2
             }
            },
            "type": "histogram"
           }
          ],
          "histogram2d": [
           {
            "colorbar": {
             "outlinewidth": 0,
             "ticks": ""
            },
            "colorscale": [
             [
              0,
              "#0d0887"
             ],
             [
              0.1111111111111111,
              "#46039f"
             ],
             [
              0.2222222222222222,
              "#7201a8"
             ],
             [
              0.3333333333333333,
              "#9c179e"
             ],
             [
              0.4444444444444444,
              "#bd3786"
             ],
             [
              0.5555555555555556,
              "#d8576b"
             ],
             [
              0.6666666666666666,
              "#ed7953"
             ],
             [
              0.7777777777777778,
              "#fb9f3a"
             ],
             [
              0.8888888888888888,
              "#fdca26"
             ],
             [
              1,
              "#f0f921"
             ]
            ],
            "type": "histogram2d"
           }
          ],
          "histogram2dcontour": [
           {
            "colorbar": {
             "outlinewidth": 0,
             "ticks": ""
            },
            "colorscale": [
             [
              0,
              "#0d0887"
             ],
             [
              0.1111111111111111,
              "#46039f"
             ],
             [
              0.2222222222222222,
              "#7201a8"
             ],
             [
              0.3333333333333333,
              "#9c179e"
             ],
             [
              0.4444444444444444,
              "#bd3786"
             ],
             [
              0.5555555555555556,
              "#d8576b"
             ],
             [
              0.6666666666666666,
              "#ed7953"
             ],
             [
              0.7777777777777778,
              "#fb9f3a"
             ],
             [
              0.8888888888888888,
              "#fdca26"
             ],
             [
              1,
              "#f0f921"
             ]
            ],
            "type": "histogram2dcontour"
           }
          ],
          "mesh3d": [
           {
            "colorbar": {
             "outlinewidth": 0,
             "ticks": ""
            },
            "type": "mesh3d"
           }
          ],
          "parcoords": [
           {
            "line": {
             "colorbar": {
              "outlinewidth": 0,
              "ticks": ""
             }
            },
            "type": "parcoords"
           }
          ],
          "pie": [
           {
            "automargin": true,
            "type": "pie"
           }
          ],
          "scatter": [
           {
            "fillpattern": {
             "fillmode": "overlay",
             "size": 10,
             "solidity": 0.2
            },
            "type": "scatter"
           }
          ],
          "scatter3d": [
           {
            "line": {
             "colorbar": {
              "outlinewidth": 0,
              "ticks": ""
             }
            },
            "marker": {
             "colorbar": {
              "outlinewidth": 0,
              "ticks": ""
             }
            },
            "type": "scatter3d"
           }
          ],
          "scattercarpet": [
           {
            "marker": {
             "colorbar": {
              "outlinewidth": 0,
              "ticks": ""
             }
            },
            "type": "scattercarpet"
           }
          ],
          "scattergeo": [
           {
            "marker": {
             "colorbar": {
              "outlinewidth": 0,
              "ticks": ""
             }
            },
            "type": "scattergeo"
           }
          ],
          "scattergl": [
           {
            "marker": {
             "colorbar": {
              "outlinewidth": 0,
              "ticks": ""
             }
            },
            "type": "scattergl"
           }
          ],
          "scattermap": [
           {
            "marker": {
             "colorbar": {
              "outlinewidth": 0,
              "ticks": ""
             }
            },
            "type": "scattermap"
           }
          ],
          "scattermapbox": [
           {
            "marker": {
             "colorbar": {
              "outlinewidth": 0,
              "ticks": ""
             }
            },
            "type": "scattermapbox"
           }
          ],
          "scatterpolar": [
           {
            "marker": {
             "colorbar": {
              "outlinewidth": 0,
              "ticks": ""
             }
            },
            "type": "scatterpolar"
           }
          ],
          "scatterpolargl": [
           {
            "marker": {
             "colorbar": {
              "outlinewidth": 0,
              "ticks": ""
             }
            },
            "type": "scatterpolargl"
           }
          ],
          "scatterternary": [
           {
            "marker": {
             "colorbar": {
              "outlinewidth": 0,
              "ticks": ""
             }
            },
            "type": "scatterternary"
           }
          ],
          "surface": [
           {
            "colorbar": {
             "outlinewidth": 0,
             "ticks": ""
            },
            "colorscale": [
             [
              0,
              "#0d0887"
             ],
             [
              0.1111111111111111,
              "#46039f"
             ],
             [
              0.2222222222222222,
              "#7201a8"
             ],
             [
              0.3333333333333333,
              "#9c179e"
             ],
             [
              0.4444444444444444,
              "#bd3786"
             ],
             [
              0.5555555555555556,
              "#d8576b"
             ],
             [
              0.6666666666666666,
              "#ed7953"
             ],
             [
              0.7777777777777778,
              "#fb9f3a"
             ],
             [
              0.8888888888888888,
              "#fdca26"
             ],
             [
              1,
              "#f0f921"
             ]
            ],
            "type": "surface"
           }
          ],
          "table": [
           {
            "cells": {
             "fill": {
              "color": "#EBF0F8"
             },
             "line": {
              "color": "white"
             }
            },
            "header": {
             "fill": {
              "color": "#C8D4E3"
             },
             "line": {
              "color": "white"
             }
            },
            "type": "table"
           }
          ]
         },
         "layout": {
          "annotationdefaults": {
           "arrowcolor": "#2a3f5f",
           "arrowhead": 0,
           "arrowwidth": 1
          },
          "autotypenumbers": "strict",
          "coloraxis": {
           "colorbar": {
            "outlinewidth": 0,
            "ticks": ""
           }
          },
          "colorscale": {
           "diverging": [
            [
             0,
             "#8e0152"
            ],
            [
             0.1,
             "#c51b7d"
            ],
            [
             0.2,
             "#de77ae"
            ],
            [
             0.3,
             "#f1b6da"
            ],
            [
             0.4,
             "#fde0ef"
            ],
            [
             0.5,
             "#f7f7f7"
            ],
            [
             0.6,
             "#e6f5d0"
            ],
            [
             0.7,
             "#b8e186"
            ],
            [
             0.8,
             "#7fbc41"
            ],
            [
             0.9,
             "#4d9221"
            ],
            [
             1,
             "#276419"
            ]
           ],
           "sequential": [
            [
             0,
             "#0d0887"
            ],
            [
             0.1111111111111111,
             "#46039f"
            ],
            [
             0.2222222222222222,
             "#7201a8"
            ],
            [
             0.3333333333333333,
             "#9c179e"
            ],
            [
             0.4444444444444444,
             "#bd3786"
            ],
            [
             0.5555555555555556,
             "#d8576b"
            ],
            [
             0.6666666666666666,
             "#ed7953"
            ],
            [
             0.7777777777777778,
             "#fb9f3a"
            ],
            [
             0.8888888888888888,
             "#fdca26"
            ],
            [
             1,
             "#f0f921"
            ]
           ],
           "sequentialminus": [
            [
             0,
             "#0d0887"
            ],
            [
             0.1111111111111111,
             "#46039f"
            ],
            [
             0.2222222222222222,
             "#7201a8"
            ],
            [
             0.3333333333333333,
             "#9c179e"
            ],
            [
             0.4444444444444444,
             "#bd3786"
            ],
            [
             0.5555555555555556,
             "#d8576b"
            ],
            [
             0.6666666666666666,
             "#ed7953"
            ],
            [
             0.7777777777777778,
             "#fb9f3a"
            ],
            [
             0.8888888888888888,
             "#fdca26"
            ],
            [
             1,
             "#f0f921"
            ]
           ]
          },
          "colorway": [
           "#636efa",
           "#EF553B",
           "#00cc96",
           "#ab63fa",
           "#FFA15A",
           "#19d3f3",
           "#FF6692",
           "#B6E880",
           "#FF97FF",
           "#FECB52"
          ],
          "font": {
           "color": "#2a3f5f"
          },
          "geo": {
           "bgcolor": "white",
           "lakecolor": "white",
           "landcolor": "#E5ECF6",
           "showlakes": true,
           "showland": true,
           "subunitcolor": "white"
          },
          "hoverlabel": {
           "align": "left"
          },
          "hovermode": "closest",
          "mapbox": {
           "style": "light"
          },
          "paper_bgcolor": "white",
          "plot_bgcolor": "#E5ECF6",
          "polar": {
           "angularaxis": {
            "gridcolor": "white",
            "linecolor": "white",
            "ticks": ""
           },
           "bgcolor": "#E5ECF6",
           "radialaxis": {
            "gridcolor": "white",
            "linecolor": "white",
            "ticks": ""
           }
          },
          "scene": {
           "xaxis": {
            "backgroundcolor": "#E5ECF6",
            "gridcolor": "white",
            "gridwidth": 2,
            "linecolor": "white",
            "showbackground": true,
            "ticks": "",
            "zerolinecolor": "white"
           },
           "yaxis": {
            "backgroundcolor": "#E5ECF6",
            "gridcolor": "white",
            "gridwidth": 2,
            "linecolor": "white",
            "showbackground": true,
            "ticks": "",
            "zerolinecolor": "white"
           },
           "zaxis": {
            "backgroundcolor": "#E5ECF6",
            "gridcolor": "white",
            "gridwidth": 2,
            "linecolor": "white",
            "showbackground": true,
            "ticks": "",
            "zerolinecolor": "white"
           }
          },
          "shapedefaults": {
           "line": {
            "color": "#2a3f5f"
           }
          },
          "ternary": {
           "aaxis": {
            "gridcolor": "white",
            "linecolor": "white",
            "ticks": ""
           },
           "baxis": {
            "gridcolor": "white",
            "linecolor": "white",
            "ticks": ""
           },
           "bgcolor": "#E5ECF6",
           "caxis": {
            "gridcolor": "white",
            "linecolor": "white",
            "ticks": ""
           }
          },
          "title": {
           "x": 0.05
          },
          "xaxis": {
           "automargin": true,
           "gridcolor": "white",
           "linecolor": "white",
           "ticks": "",
           "title": {
            "standoff": 15
           },
           "zerolinecolor": "white",
           "zerolinewidth": 2
          },
          "yaxis": {
           "automargin": true,
           "gridcolor": "white",
           "linecolor": "white",
           "ticks": "",
           "title": {
            "standoff": 15
           },
           "zerolinecolor": "white",
           "zerolinewidth": 2
          }
         }
        },
        "title": {
         "text": "Total Sales Over Time (Plotly Express)"
        },
        "width": 1000,
        "xaxis": {
         "anchor": "y",
         "domain": [
          0,
          1
         ],
         "title": {
          "text": "Month"
         }
        },
        "yaxis": {
         "anchor": "x",
         "domain": [
          0,
          1
         ],
         "title": {
          "text": "Total Sales ($)"
         }
        }
       }
      }
     },
     "metadata": {},
     "output_type": "display_data"
    }
   ],
   "source": [
    "# === CELL 5: Plotly Express Plot ===\n",
    "\n",
    "print(\"\\n--- Generating Plot 4: Plotly Express ---\")\n",
    "\n",
    "# Generate the interactive plot using Plotly Express\n",
    "# Assumes df exists and has 'Month' and 'Total Sales' columns from Cell 1\n",
    "# Assumes px (plotly.express) was imported in Cell 1\n",
    "fig_plotly = px.line(df, x='Month', y='Total Sales', markers=True,\n",
    "                   title='Total Sales Over Time (Plotly Express)')\n",
    "\n",
    "# Customize layout (optional)\n",
    "fig_plotly.update_layout(\n",
    "    xaxis_title='Month',\n",
    "    yaxis_title='Total Sales ($)',\n",
    "    # Example size setting for Plotly:\n",
    "    width=1000,\n",
    "    height=500\n",
    ")\n",
    "\n",
    "# Use fig.show() to display the Plotly figure in the cell output\n",
    "fig_plotly.show()"
   ]
  },
  {
   "cell_type": "markdown",
   "metadata": {},
   "source": [
    "# now let's add in some external data"
   ]
  },
  {
   "cell_type": "code",
   "execution_count": 6,
   "metadata": {},
   "outputs": [],
   "source": [
    "# test"
   ]
  },
  {
   "cell_type": "code",
   "execution_count": null,
   "metadata": {},
   "outputs": [],
   "source": []
  }
 ],
 "metadata": {
  "kernelspec": {
   "display_name": "Python 3",
   "language": "python",
   "name": "python3"
  },
  "language_info": {
   "codemirror_mode": {
    "name": "ipython",
    "version": 3
   },
   "file_extension": ".py",
   "mimetype": "text/x-python",
   "name": "python",
   "nbconvert_exporter": "python",
   "pygments_lexer": "ipython3",
   "version": "3.9.6"
  }
 },
 "nbformat": 4,
 "nbformat_minor": 2
}
